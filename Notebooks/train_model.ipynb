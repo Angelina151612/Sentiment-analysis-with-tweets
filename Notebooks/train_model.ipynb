{
  "nbformat": 4,
  "nbformat_minor": 0,
  "metadata": {
    "colab": {
      "name": "train_model.ipynb",
      "provenance": [],
      "mount_file_id": "1pD6t-2lde8-_SxqvAxKkcZ1uNvOdTk2a",
      "authorship_tag": "ABX9TyMwsUbGDCjtl/bX8wyzy2ht",
      "include_colab_link": true
    },
    "kernelspec": {
      "name": "python3",
      "display_name": "Python 3"
    },
    "accelerator": "GPU"
  },
  "cells": [
    {
      "cell_type": "markdown",
      "metadata": {
        "id": "view-in-github",
        "colab_type": "text"
      },
      "source": [
        "<a href=\"https://colab.research.google.com/github/Angelina151612/Sentiment-analysis-with-tweets/blob/br1/Source/train_model.ipynb\" target=\"_parent\"><img src=\"https://colab.research.google.com/assets/colab-badge.svg\" alt=\"Open In Colab\"/></a>"
      ]
    },
    {
      "cell_type": "code",
      "metadata": {
        "id": "poZszOhcSVJK"
      },
      "source": [
        "import pandas as pd\n",
        "import numpy as np\n",
        "from collections import Counter, OrderedDict\n",
        "from tensorflow.keras.models import Sequential, load_model\n",
        "from tensorflow.keras.layers import Dense, Embedding, SimpleRNN \n",
        "from tensorflow.keras.preprocessing.sequence import pad_sequences\n",
        "from tensorflow.keras.preprocessing.text import Tokenizer\n",
        "import seaborn as sns\n",
        "import pickle"
      ],
      "execution_count": null,
      "outputs": []
    },
    {
      "cell_type": "code",
      "metadata": {
        "id": "YwpH50VMSdA0"
      },
      "source": [
        "def open_file(path):\n",
        "    with open(path, encoding=\"cp1252\") as readfile:\n",
        "        df = pd.read_csv(readfile)\n",
        "    df = df[df['tweet'].notna()]\n",
        "    df = df.sample(frac=1)  # mix data\n",
        "    return df['tweet'], df['mark']"
      ],
      "execution_count": null,
      "outputs": []
    },
    {
      "cell_type": "code",
      "metadata": {
        "id": "bM_Lqe70Src7"
      },
      "source": [
        "def get_max_len(tweets):\n",
        "    max = 0\n",
        "    for tweet in tweets:\n",
        "        words = len(tweet)\n",
        "        if words > max:\n",
        "            max = words\n",
        "    return max"
      ],
      "execution_count": null,
      "outputs": []
    },
    {
      "cell_type": "code",
      "metadata": {
        "id": "cqVoQoHITR2_"
      },
      "source": [
        "def get_dictionary():\n",
        "    with open('/content/drive/MyDrive/Colab Notebooks/Sentiment analysis with tweets/Data/dict.txt', 'rb') as file:\n",
        "        return pickle.load(file)"
      ],
      "execution_count": null,
      "outputs": []
    },
    {
      "cell_type": "code",
      "metadata": {
        "id": "v1wsGXCqSvb6"
      },
      "source": [
        "def preapare_tweets(x):\n",
        "    max_tweet_len = get_max_len(x)\n",
        "    x = x.apply(lambda tweet: tweet.split())\n",
        "    words = get_dictionary()\n",
        "    for tweet in x:\n",
        "        for j, word in enumerate(tweet):\n",
        "            if word in words.keys():\n",
        "                tweet[j] = words[word]\n",
        "            else:\n",
        "                tweet[j] = 0\n",
        "    return pad_sequences(x, maxlen=max_tweet_len), max_tweet_len"
      ],
      "execution_count": null,
      "outputs": []
    },
    {
      "cell_type": "code",
      "metadata": {
        "id": "RJg9KLwMSxp5"
      },
      "source": [
        "def prepare_labels(y):\n",
        "    positive = 4\n",
        "    for i, label in enumerate(y):\n",
        "        if label == positive:\n",
        "            y[i] = 1\n",
        "    return np.array(y)"
      ],
      "execution_count": null,
      "outputs": []
    },
    {
      "cell_type": "code",
      "metadata": {
        "id": "NLtpYmmJSzh_"
      },
      "source": [
        "def create_model_binary(max_tweet_len):\n",
        "    model = Sequential()\n",
        "    model.add(Embedding(65001, max_tweet_len))\n",
        "    model.add(SimpleRNN(8))\n",
        "    model.add(Dense(1, activation='sigmoid'))\n",
        "    model.compile(loss='binary_crossentropy', optimizer = 'adam', metrics=['accuracy'])\n",
        "    return model"
      ],
      "execution_count": null,
      "outputs": []
    },
    {
      "cell_type": "code",
      "metadata": {
        "id": "MtCt2PP_Zkgc"
      },
      "source": [
        "def plot_data(history, metric):\n",
        "    data = pd.DataFrame()\n",
        "    data['epoch'] = range(3)\n",
        "    data[metric] = history[metric]\n",
        "    data['val_' + metric] = history['val_' +  metric]\n",
        "    print(data)\n",
        "    sns.set(style = 'darkgrid')\n",
        "    sns.lineplot(x = 'epoch', y = 'value',hue = 'variable', data=pd.melt(data, ['epoch']))\n"
      ],
      "execution_count": null,
      "outputs": []
    },
    {
      "cell_type": "code",
      "metadata": {
        "colab": {
          "base_uri": "https://localhost:8080/"
        },
        "id": "PJ45_yRWS1z9",
        "outputId": "78e6bc3b-0d86-4611-8e9c-30da72d384f4"
      },
      "source": [
        "path = '/content/drive/MyDrive/Colab Notebooks/Sentiment analysis with tweets/Data/prepared_data.csv'\n",
        "x, y = open_file(path)\n",
        "x, max_tweet_len = preapare_tweets(x)\n",
        "y = prepare_labels(y.values)\n",
        " \n",
        "x_test = x[:90000]\n",
        "y_test = y[:90000]\n",
        " \n",
        "print('test\\n', Counter(y_test))\n",
        "x_train = x[90000:]\n",
        "y_train = y[90000:]\n",
        "print('\\ntrain\\n', Counter(y_train))"
      ],
      "execution_count": null,
      "outputs": [
        {
          "output_type": "stream",
          "text": [
            "test\n",
            " Counter({0: 78935, 1: 11065})\n",
            "\n",
            "train\n",
            " Counter({0: 717828, 1: 100752})\n"
          ],
          "name": "stdout"
        }
      ]
    },
    {
      "cell_type": "code",
      "metadata": {
        "id": "jBV_lPvBS4mO"
      },
      "source": [
        "model = create_model_binary(max_tweet_len)"
      ],
      "execution_count": null,
      "outputs": []
    },
    {
      "cell_type": "code",
      "metadata": {
        "colab": {
          "base_uri": "https://localhost:8080/"
        },
        "id": "h0HXAGPsZahh",
        "outputId": "2b9ad8aa-16c1-4e40-c9fa-ff95c3ee42a2"
      },
      "source": [
        "history = model.fit(x_train, y_train, epochs=3, batch_size = 512, validation_data = (x_test, y_test))"
      ],
      "execution_count": null,
      "outputs": [
        {
          "output_type": "stream",
          "text": [
            "Epoch 1/3\n",
            "1599/1599 [==============================] - 315s 196ms/step - loss: 0.3297 - accuracy: 0.8800 - val_loss: 0.2802 - val_accuracy: 0.8911\n",
            "Epoch 2/3\n",
            "1599/1599 [==============================] - 311s 194ms/step - loss: 0.2489 - accuracy: 0.9031 - val_loss: 0.2824 - val_accuracy: 0.8910\n",
            "Epoch 3/3\n",
            "1599/1599 [==============================] - 308s 193ms/step - loss: 0.2228 - accuracy: 0.9149 - val_loss: 0.2904 - val_accuracy: 0.8890\n"
          ],
          "name": "stdout"
        }
      ]
    },
    {
      "cell_type": "code",
      "metadata": {
        "colab": {
          "base_uri": "https://localhost:8080/",
          "height": 353
        },
        "id": "opgEAc-LZmqN",
        "outputId": "41f8c7f7-e375-4e44-9957-58bc326c6cd8"
      },
      "source": [
        "plot_data(history.history, metric = 'accuracy')"
      ],
      "execution_count": null,
      "outputs": [
        {
          "output_type": "stream",
          "text": [
            "   epoch  accuracy  val_accuracy\n",
            "0      0  0.887020      0.891122\n",
            "1      1  0.902060      0.891022\n",
            "2      2  0.912337      0.889033\n"
          ],
          "name": "stdout"
        },
        {
          "output_type": "display_data",
          "data": {
            "image/png": "[encoded data removed]",
            "text/plain": [
              "<Figure size 432x288 with 1 Axes>"
            ]
          },
          "metadata": {
            "tags": []
          }
        }
      ]
    },
    {
      "cell_type": "code",
      "metadata": {
        "colab": {
          "base_uri": "https://localhost:8080/",
          "height": 353
        },
        "id": "40EtVpWMZoDU",
        "outputId": "a6cfc923-563b-409e-b6a0-e70c45126a93"
      },
      "source": [
        "plot_data(history.history, metric = 'loss')"
      ],
      "execution_count": null,
      "outputs": [
        {
          "output_type": "stream",
          "text": [
            "   epoch      loss  val_loss\n",
            "0      0  0.298008  0.280173\n",
            "1      1  0.251693  0.282439\n",
            "2      2  0.227561  0.290384\n"
          ],
          "name": "stdout"
        },
        {
          "output_type": "display_data",
          "data": {
            "image/png": "[encoded data removed]",
            "text/plain": [
              "<Figure size 432x288 with 1 Axes>"
            ]
          },
          "metadata": {
            "tags": []
          }
        }
      ]
    },
    {
      "cell_type": "code",
      "metadata": {
        "id": "zEy9VIlyZpRd"
      },
      "source": [
        "model.save(r'/content/drive/MyDrive/Colab Notebooks/Sentiment analysis with tweets/SimpleRNN_batch_size_128.h5')"
      ],
      "execution_count": null,
      "outputs": []
    }
  ]
}
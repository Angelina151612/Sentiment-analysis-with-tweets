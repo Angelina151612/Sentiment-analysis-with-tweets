{
  "nbformat": 4,
  "nbformat_minor": 0,
  "metadata": {
    "colab": {
      "name": "create_dictionary.ipynb",
      "provenance": [],
      "mount_file_id": "12RpfYIt5FNwm5cfEdQ_UNhTYcLHAg6NX",
      "authorship_tag": "ABX9TyN/Zxebx8OikqcGYrkaboBD",
      "include_colab_link": true
    },
    "kernelspec": {
      "name": "python3",
      "display_name": "Python 3"
    }
  },
  "cells": [
    {
      "cell_type": "markdown",
      "metadata": {
        "id": "view-in-github",
        "colab_type": "text"
      },
      "source": [
        "<a href=\"https://colab.research.google.com/github/Angelina151612/Sentiment-analysis-with-tweets/blob/br1/Source/create_dictionary.ipynb\" target=\"_parent\"><img src=\"https://colab.research.google.com/assets/colab-badge.svg\" alt=\"Open In Colab\"/></a>"
      ]
    },
    {
      "cell_type": "code",
      "metadata": {
        "id": "SXU7INaPVtOS"
      },
      "source": [
        "import pickle\n",
        "import pandas as pd\n",
        "import numpy as np\n",
        "from collections import Counter, OrderedDict"
      ],
      "execution_count": 1,
      "outputs": []
    },
    {
      "cell_type": "code",
      "metadata": {
        "id": "u7hJ8CagWB9M"
      },
      "source": [
        "def open_file(path):\n",
        "    with open(path, encoding=\"cp1252\") as readfile:\n",
        "        df = pd.read_csv(readfile)\n",
        "    df = df[df['tweet'].notna()]\n",
        "    df = df.sample(frac=1)  # mix data\n",
        "    return df['tweet'], df['mark']"
      ],
      "execution_count": null,
      "outputs": []
    },
    {
      "cell_type": "code",
      "metadata": {
        "id": "27BaQX6pV5Dr"
      },
      "source": [
        "def create_dict_for_network():\n",
        "    path = '/content/drive/MyDrive/Colab Notebooks/Sentiment analysis with tweets/Data/prepared_data.csv'\n",
        "    x, y = open_file(path)\n",
        "    x = x.apply(lambda tweet: tweet.split())\n",
        "    new_x = np.hstack(x) \n",
        "    words_dict = OrderedDict(Counter(new_x).most_common())\n",
        "    print(words_dict)\n",
        "    return dict(zip(words_dict.keys(), range(1, 65001)))"
      ],
      "execution_count": null,
      "outputs": []
    },
    {
      "cell_type": "code",
      "metadata": {
        "id": "jRrnjDbrWTlE"
      },
      "source": [
        "def save_dict():\n",
        "    with open('/content/drive/MyDrive/Colab Notebooks/Sentiment analysis with tweets/Data/dict.txt', 'wb') as file:\n",
        "      pickle.dump(create_dict_for_network(), file)"
      ],
      "execution_count": null,
      "outputs": []
    },
    {
      "cell_type": "code",
      "metadata": {
        "id": "h3vD4Oo7Wqwp"
      },
      "source": [
        "save_dict()"
      ],
      "execution_count": null,
      "outputs": []
    }
  ]
}